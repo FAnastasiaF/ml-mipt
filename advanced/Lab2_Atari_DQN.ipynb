{
  "cells": [
    {
      "cell_type": "markdown",
      "metadata": {
        "id": "KRW0CnH3hZHN"
      },
      "source": [
        "# Lab 2: Deep Q-Network implementation\n",
        "\n",
        "This homework shamelessly demands you to implement a DQN - an approximate q-learning algorithm with experience replay and target networks - and see if it works any better this way.\n",
        "\n",
        "Original paper:\n",
        "https://arxiv.org/pdf/1312.5602.pdf"
      ]
    },
    {
      "cell_type": "markdown",
      "metadata": {
        "id": "pNIGobRphZHP"
      },
      "source": [
        "**This notebook is the main notebook.** Another notebook is given for debug. The tasks are similar and share most of the code. The main difference is in environments. In main notebook it can take some 2 hours for the agent to start improving so it seems reasonable to launch the algorithm on a simpler env first. Here it is CartPole and it will train in several minutes.\n",
        "\n",
        "**We suggest the following pipeline:** First implement debug notebook then implement the main one."
      ]
    },
    {
      "cell_type": "code",
      "execution_count": 1,
      "metadata": {
        "id": "3bDTYFQWhZHQ",
        "outputId": "773ad3a3-2d09-4270-d5c5-d4f204e042cc",
        "colab": {
          "base_uri": "https://localhost:8080/"
        }
      },
      "outputs": [
        {
          "output_type": "stream",
          "name": "stdout",
          "text": [
            "Starting virtual X frame buffer: Xvfb.\n"
          ]
        }
      ],
      "source": [
        "import os\n",
        "import sys\n",
        "\n",
        "\n",
        "if \"google.colab\" in sys.modules and not os.path.exists(\".setup_complete\"):\n",
        "    !wget -q https://raw.githubusercontent.com/yandexdataschool/Practical_RL/master/setup_colab.sh -O- | bash\n",
        "    !wget -q https://raw.githubusercontent.com/girafe-ai/ml-mipt/develop_advanced_practice/homeworks_advanced/Lab2_RL/replay_buffer.py\n",
        "    !wget -q https://raw.githubusercontent.com/girafe-ai/ml-mipt/develop_advanced_practice/homeworks_advanced/Lab2_RL/utils.py\n",
        "    !wget -q https://raw.githubusercontent.com/girafe-ai/ml-mipt/develop_advanced_practice/homeworks_advanced/Lab2_RL/atari_wrappers.py\n",
        "    !wget -q https://raw.githubusercontent.com/girafe-ai/ml-mipt/develop_advanced_practice/homeworks_advanced/Lab2_RL/framebuffer.py\n",
        "    !touch .setup_complete\n",
        "\n",
        "# This code creates a virtual display to draw game images on.\n",
        "# It will have no effect if your machine has a monitor.\n",
        "if type(os.environ.get(\"DISPLAY\")) is not str or len(os.environ.get(\"DISPLAY\")) == 0:\n",
        "    !bash ../xvfb start\n",
        "    os.environ[\"DISPLAY\"] = \":1\""
      ]
    },
    {
      "cell_type": "markdown",
      "metadata": {
        "id": "bxoEdZ-ehZHS"
      },
      "source": [
        "## Let's play some old videogames\n",
        "![img](https://github.com/yandexdataschool/Practical_RL/raw/master/yet_another_week/_resource/nerd.png)\n",
        "\n",
        "This time we're gonna apply approximate q-learning to an atari game called Breakout. It's not the hardest thing out there, but it's definitely way more complex than anything we tried before.\n"
      ]
    },
    {
      "cell_type": "markdown",
      "metadata": {
        "id": "lRvEHGmFhZHT"
      },
      "source": [
        "## Preprocessing "
      ]
    },
    {
      "cell_type": "markdown",
      "metadata": {
        "id": "UWvswpiEhZHT"
      },
      "source": [
        "Let's see what observations look like."
      ]
    },
    {
      "cell_type": "code",
      "execution_count": 2,
      "metadata": {
        "id": "jhZVBTz0hZHT",
        "outputId": "36238d71-a24d-457c-c6a5-a4dda313938f",
        "colab": {
          "base_uri": "https://localhost:8080/",
          "height": 520
        }
      },
      "outputs": [
        {
          "output_type": "display_data",
          "data": {
            "text/plain": [
              "<Figure size 1152x648 with 10 Axes>"
            ],
            "image/png": "[encoded data removed]"
          },
          "metadata": {
            "needs_background": "light"
          }
        }
      ],
      "source": [
        "import gym\n",
        "import matplotlib.pyplot as plt\n",
        "\n",
        "\n",
        "env = gym.make(\"BreakoutNoFrameskip-v4\")\n",
        "env.reset()\n",
        "\n",
        "_, axes = plt.subplots(nrows=2, ncols=5, figsize=(16, 9))\n",
        "\n",
        "for ax in axes.flatten():\n",
        "    ax.imshow(env.render('rgb_array'))\n",
        "    env.step(env.action_space.sample())\n",
        "\n",
        "plt.show()"
      ]
    },
    {
      "cell_type": "markdown",
      "metadata": {
        "id": "qlzsddHjhZHT"
      },
      "source": [
        "If you are working in a local jupyter (as opposed to colab), you actually can play the game with the following code:\n",
        "\n",
        "```\n",
        "from gym.utils.play import play\n",
        "play(env=gym.make(\"BreakoutNoFrameskip-v4\"), zoom=5, fps=30)\n",
        "```\n",
        "\n",
        "Pay attention to zoom and fps args of play function. Controls are A, D and space."
      ]
    },
    {
      "cell_type": "markdown",
      "metadata": {
        "id": "mVWBMsmrhZHU"
      },
      "source": [
        "### Processing game image \n",
        "\n",
        "Raw atari images are large, 210x160x3 by default. However, we don't need that level of detail in order to learn them.\n",
        "\n",
        "We can thus save a lot of time by preprocessing game image, including\n",
        "* Resizing to a smaller shape, 64 x 64\n",
        "* Converting to grayscale\n",
        "* Cropping irrelevant image parts (top, bottom and edges)\n",
        "\n",
        "Also please keep one dimension for channel so that final shape would be 1 x 64 x 64.\n",
        "\n",
        "Tip: You can implement your own grayscale converter and assign a huge weight to the red channel. This dirty trick is not necessary but it will speed up learning."
      ]
    },
    {
      "cell_type": "code",
      "execution_count": 3,
      "metadata": {
        "id": "rOH5Zm8VhZHU"
      },
      "outputs": [],
      "source": [
        "from gym.core import ObservationWrapper\n",
        "from gym.spaces import Box\n",
        "import cv2\n",
        "\n",
        "class PreprocessAtariObs(ObservationWrapper):\n",
        "    def __init__(self, env):\n",
        "        \"\"\"A gym wrapper that crops, scales image into the desired shapes and grayscales it.\"\"\"\n",
        "        super().__init__(env)\n",
        "        self.img_size = (1, 64, 64)\n",
        "        self.observation_space = Box(0.0, 1.0, self.img_size)\n",
        "\n",
        "    def _to_gray_scale(self, rgb, channel_weights=[0.8, 0.1, 0.1]):\n",
        "        # YOUR CODE HERE\n",
        "        return np.dot(rgb / 255, channel_weights)\n",
        "\n",
        "    def observation(self, img):\n",
        "        \"\"\"what happens to each observation\"\"\"\n",
        "\n",
        "        # YOUR CODE HERE\n",
        "        # Here's what you need to do:\n",
        "        #  * crop image, remove irrelevant parts\n",
        "        img = img[31:-16, 7:-8]\n",
        "        #  * resize image to self.img_size\n",
        "        #     (use imresize from any library you want,\n",
        "        #      e.g. opencv, skimage, PIL, keras)\n",
        "        #  * cast image to grayscale\n",
        "        img = self._to_gray_scale(img)\n",
        "\n",
        "        img = cv2.resize(img, self.img_size[1:])\n",
        "        #  * convert image pixels to (0,1) range, float32 type\n",
        "        return np.expand_dims(img.astype(np.float32), axis=0)\n"
      ]
    },
    {
      "cell_type": "code",
      "execution_count": 4,
      "metadata": {
        "id": "dpJillghhZHU",
        "outputId": "b3de102a-a390-43be-9231-c55edf01ec60",
        "colab": {
          "base_uri": "https://localhost:8080/",
          "height": 488
        }
      },
      "outputs": [
        {
          "output_type": "stream",
          "name": "stdout",
          "text": [
            "Formal tests seem fine. Here's an example of what you'll get.\n"
          ]
        },
        {
          "output_type": "display_data",
          "data": {
            "text/plain": [
              "<Figure size 1152x648 with 10 Axes>"
            ],
            "image/png": "[encoded data removed]"
          },
          "metadata": {
            "needs_background": "light"
          }
        }
      ],
      "source": [
        "import numpy as np\n",
        "\n",
        "\n",
        "# spawn game instance for tests\n",
        "env = gym.make(\"BreakoutNoFrameskip-v4\")\n",
        "env = PreprocessAtariObs(env)\n",
        "state_shape = env.observation_space.shape\n",
        "n_actions = env.action_space.n\n",
        "env.reset()\n",
        "obs, _, _, _ = env.step(env.action_space.sample())\n",
        "\n",
        "# test observation\n",
        "assert obs.ndim == 3, \"observation must be [channel, h, w] even if there's just one channel\"\n",
        "assert obs.shape == state_shape\n",
        "assert obs.dtype == 'float32'\n",
        "assert len(np.unique(obs)) > 2, \"your image must not be binary\"\n",
        "assert 0 <= np.min(obs) and np.max(obs) <= 1, \"convert image pixels to [0,1] range\"\n",
        "\n",
        "print(\"Formal tests seem fine. Here's an example of what you'll get.\")\n",
        "\n",
        "n_cols = 5\n",
        "n_rows = 2\n",
        "fig = plt.figure(figsize=(16, 9))\n",
        "obs = env.reset()\n",
        "for row in range(n_rows):\n",
        "    for col in range(n_cols):\n",
        "        ax = fig.add_subplot(n_rows, n_cols, row * n_cols + col + 1)\n",
        "        ax.imshow(obs[0, :, :], interpolation='none', cmap='gray')\n",
        "        obs, _, _, _ = env.step(env.action_space.sample())\n",
        "plt.show()"
      ]
    },
    {
      "cell_type": "markdown",
      "metadata": {
        "id": "rVSDpD0phZHU"
      },
      "source": [
        "### Wrapping."
      ]
    },
    {
      "cell_type": "markdown",
      "metadata": {
        "id": "OTGN0psNhZHV"
      },
      "source": [
        "**About the game:** You have 5 lives and get points for breaking the wall. Higher bricks cost more than the lower ones. There are 4 actions: start game (should be called at the beginning and after each life is lost), move left, move right and do nothing. There are some common wrappers used for Atari environments."
      ]
    },
    {
      "cell_type": "code",
      "execution_count": 5,
      "metadata": {
        "id": "AVNSZ0LWhZHV"
      },
      "outputs": [],
      "source": [
        "import atari_wrappers\n",
        "\n",
        "\n",
        "def PrimaryAtariWrap(env, clip_rewards=True):\n",
        "    assert 'NoFrameskip' in env.spec.id\n",
        "\n",
        "    # This wrapper holds the same action for <skip> frames and outputs\n",
        "    # the maximal pixel value of 2 last frames (to handle blinking\n",
        "    # in some envs)\n",
        "    env = atari_wrappers.MaxAndSkipEnv(env, skip=4)\n",
        "\n",
        "    # This wrapper sends done=True when each life is lost\n",
        "    # (not all the 5 lives that are givern by the game rules).\n",
        "    # It should make easier for the agent to understand that losing is bad.\n",
        "    env = atari_wrappers.EpisodicLifeEnv(env)\n",
        "\n",
        "    # This wrapper laucnhes the ball when an episode starts.\n",
        "    # Without it the agent has to learn this action, too.\n",
        "    # Actually it can but learning would take longer.\n",
        "    env = atari_wrappers.FireResetEnv(env)\n",
        "\n",
        "    # This wrapper transforms rewards to {-1, 0, 1} according to their sign\n",
        "    if clip_rewards:\n",
        "        env = atari_wrappers.ClipRewardEnv(env)\n",
        "\n",
        "    # This wrapper is yours :)\n",
        "    env = PreprocessAtariObs(env)\n",
        "    return env"
      ]
    },
    {
      "cell_type": "markdown",
      "metadata": {
        "id": "3fh2WR-XhZHV"
      },
      "source": [
        "### Frame buffer\n",
        "\n",
        "Our agent can only process one observation at a time, so we gotta make sure it contains enough information to find optimal actions. For instance, agent has to react to moving objects so he must be able to measure object's velocity.\n",
        "\n",
        "To do so, we introduce a buffer that stores 4 last images. This time everything is pre-implemented for you, not really by the staff of the course :)"
      ]
    },
    {
      "cell_type": "code",
      "execution_count": 6,
      "metadata": {
        "id": "8dzs0mQ7hZHV",
        "scrolled": true
      },
      "outputs": [],
      "source": [
        "from framebuffer import FrameBuffer\n",
        "\n",
        "\n",
        "def make_env(clip_rewards=True, seed=None):\n",
        "    env = gym.make(\"BreakoutNoFrameskip-v4\")  # create raw env\n",
        "    if seed is not None:\n",
        "        env.seed(seed)\n",
        "\n",
        "    env = PrimaryAtariWrap(env, clip_rewards)\n",
        "    env = FrameBuffer(env, n_frames=4, dim_order='pytorch')\n",
        "    return env\n",
        "\n",
        "\n",
        "env = make_env()\n",
        "env.reset()\n",
        "n_actions = env.action_space.n\n",
        "state_shape = env.observation_space.shape"
      ]
    },
    {
      "cell_type": "code",
      "execution_count": 7,
      "metadata": {
        "id": "yyisP1b7hZHV",
        "outputId": "a9ffb6fb-b584-48a0-cf52-a110f77b4375",
        "colab": {
          "base_uri": "https://localhost:8080/",
          "height": 1000
        }
      },
      "outputs": [
        {
          "output_type": "display_data",
          "data": {
            "text/plain": [
              "<Figure size 864x720 with 1 Axes>"
            ],
            "image/png": "[encoded data removed]"
          },
          "metadata": {
            "needs_background": "light"
          }
        },
        {
          "output_type": "display_data",
          "data": {
            "text/plain": [
              "<Figure size 1080x1080 with 1 Axes>"
            ],
            "image/png": "[encoded data removed]"
          },
          "metadata": {
            "needs_background": "light"
          }
        }
      ],
      "source": [
        "import utils\n",
        "\n",
        "\n",
        "for _ in range(12):\n",
        "    obs, _, _, _ = env.step(env.action_space.sample())\n",
        "\n",
        "plt.figure(figsize=[12, 10])\n",
        "plt.title(\"Game image\")\n",
        "plt.imshow(env.render(\"rgb_array\"))\n",
        "plt.show()\n",
        "\n",
        "plt.figure(figsize=[15, 15])\n",
        "plt.title(\"Agent observation (4 frames top to bottom)\")\n",
        "plt.imshow(utils.img_by_obs(obs, state_shape), cmap='gray')\n",
        "plt.show()"
      ]
    },
    {
      "cell_type": "markdown",
      "metadata": {
        "id": "dT3x8RFKhZHV"
      },
      "source": [
        "## DQN as it is"
      ]
    },
    {
      "cell_type": "markdown",
      "metadata": {
        "id": "Rph92xkdhZHV"
      },
      "source": [
        "### Building a network\n",
        "\n",
        "We now need to build a neural network that can map images to state q-values. This network will be called on every agent's step so it better not be resnet-152 unless you have an array of GPUs. Instead, you can use strided convolutions with a small number of features to save time and memory.\n",
        "\n",
        "You can build any architecture you want, but for reference, here's something that will more or less work:"
      ]
    },
    {
      "cell_type": "markdown",
      "metadata": {
        "id": "ST8jhXhthZHV"
      },
      "source": [
        "![img](https://github.com/yandexdataschool/Practical_RL/raw/master/yet_another_week/_resource/dqn_arch.png)"
      ]
    },
    {
      "cell_type": "code",
      "execution_count": 8,
      "metadata": {
        "id": "rJ3uussQhZHW"
      },
      "outputs": [],
      "source": [
        "import torch\n",
        "import torch.nn as nn\n",
        "import torch.nn.functional as F\n",
        "\n",
        "\n",
        "class DQNAgent(nn.Module):\n",
        "    def __init__(self, state_shape, n_actions, epsilon=0):\n",
        "        super().__init__()\n",
        "        self.epsilon = epsilon\n",
        "        self.n_actions = n_actions\n",
        "        self.state_shape = state_shape\n",
        "\n",
        "        # YOUR CODE HERE\n",
        "        self.state_dim = state_shape[0]\n",
        "\n",
        "        self.model = nn.Sequential(\n",
        "            nn.Conv2d(self.state_dim, 16, 3, stride=2),\n",
        "            nn.ReLU(),\n",
        "            nn.Conv2d(16, 32, 3, stride=2),\n",
        "            nn.ReLU(),\n",
        "            nn.Conv2d(32, 64, 3, stride=2),\n",
        "            nn.ReLU(),\n",
        "            nn.Flatten(),\n",
        "            nn.Linear(in_features=3136, out_features=256),\n",
        "            nn.ReLU(),\n",
        "            nn.Linear(in_features=256, out_features=n_actions)\n",
        "        )\n",
        "        # self.conv1 = nn.Conv2d(self.state_dim, 16, 3, stride=2)\n",
        "        # self.conv2 = nn.Conv2d(16, 32, 3, stride=2)\n",
        "        # self.conv3 = nn.Conv2d(32, 64, 3, stride=2)\n",
        "        # self.flatten = nn.Flatten()\n",
        "\n",
        "        # self.l4 = nn.Linear(in_features=3136, out_features=256)\n",
        "        # self.l5 = nn.Linear(in_features=256, out_features=n_actions)\n",
        "\n",
        "    def forward(self, state_t):\n",
        "        \"\"\"\n",
        "        takes agent's observation (tensor), returns qvalues (tensor)\n",
        "        :param state_t: a batch of 4-frame buffers, shape = [batch_size, 4, h, w]\n",
        "        \"\"\"\n",
        "        # YOUR CODE HERE\n",
        "        # Use your network to compute qvalues for given state\n",
        "        # qvalues = F.relu(self.conv1(state_t))\n",
        "        # qvalues = F.relu(self.conv2(qvalues))\n",
        "        # qvalues = F.relu(self.conv3(qvalues))\n",
        "        # qvalues = self.flatten(qvalues)\n",
        "        # qvalues = F.relu(self.l4(qvalues))\n",
        "        # qvalues = self.l5(qvalues)\n",
        "        qvalues = self.model(state_t)\n",
        "\n",
        "        assert qvalues.requires_grad, \"qvalues must be a torch tensor with grad\"\n",
        "        assert (\n",
        "            len(qvalues.shape) == 2\n",
        "            and qvalues.shape[0] == state_t.shape[0]\n",
        "            and qvalues.shape[1] == n_actions\n",
        "        )\n",
        "\n",
        "        return qvalues\n",
        "\n",
        "    def get_qvalues(self, states):\n",
        "        \"\"\"\n",
        "        like forward, but works on numpy arrays, not tensors\n",
        "        \"\"\"\n",
        "        model_device = next(self.parameters()).device\n",
        "        states = torch.tensor(states, device=model_device, dtype=torch.float)\n",
        "        qvalues = self.forward(states)\n",
        "        return qvalues.detach().cpu().numpy()\n",
        "\n",
        "    def sample_actions(self, qvalues):\n",
        "        \"\"\"pick actions given qvalues. Uses epsilon-greedy exploration strategy. \"\"\"\n",
        "        epsilon = self.epsilon\n",
        "        batch_size, n_actions = qvalues.shape\n",
        "\n",
        "        random_actions = np.random.choice(n_actions, size=batch_size)\n",
        "        best_actions = qvalues.argmax(axis=-1)\n",
        "\n",
        "        should_explore = np.random.choice([0, 1], batch_size, p=[1 - epsilon, epsilon])\n",
        "        return np.where(should_explore, random_actions, best_actions)"
      ]
    },
    {
      "cell_type": "code",
      "execution_count": 9,
      "metadata": {
        "id": "Ebp-jTxghZHW"
      },
      "outputs": [],
      "source": [
        "device = torch.device('cuda' if torch.cuda.is_available() else 'cpu')\n",
        "agent = DQNAgent(state_shape, n_actions, epsilon=0.5).to(device)"
      ]
    },
    {
      "cell_type": "markdown",
      "metadata": {
        "id": "Z1xNJfSyhZHW"
      },
      "source": [
        "Now let's try out our agent to see if it raises any errors."
      ]
    },
    {
      "cell_type": "code",
      "execution_count": 10,
      "metadata": {
        "id": "zKHs_BRRhZHW"
      },
      "outputs": [],
      "source": [
        "def evaluate(env, agent, n_games=1, greedy=False, t_max=10000):\n",
        "    \"\"\" Plays n_games full games. If greedy, picks actions as argmax(qvalues). Returns mean reward. \"\"\"\n",
        "    rewards = []\n",
        "    for _ in range(n_games):\n",
        "        s = env.reset()\n",
        "        reward = 0\n",
        "        for _ in range(t_max):\n",
        "            qvalues = agent.get_qvalues([s])\n",
        "            if greedy:\n",
        "                action = qvalues.argmax(axis=-1)[0]\n",
        "            else:\n",
        "                action = agent.sample_actions(qvalues)[0]\n",
        "\n",
        "            s, r, done, _ = env.step(action)\n",
        "            reward += r\n",
        "            if done:\n",
        "                break\n",
        "\n",
        "        rewards.append(reward)\n",
        "    return np.mean(rewards)"
      ]
    },
    {
      "cell_type": "code",
      "execution_count": 11,
      "metadata": {
        "id": "AHnRpLhthZHW",
        "outputId": "5067ced6-6188-48b1-c608-1b81c80b9867",
        "colab": {
          "base_uri": "https://localhost:8080/"
        }
      },
      "outputs": [
        {
          "output_type": "stream",
          "name": "stderr",
          "text": [
            "/usr/local/lib/python3.7/dist-packages/ipykernel_launcher.py:65: UserWarning: Creating a tensor from a list of numpy.ndarrays is extremely slow. Please consider converting the list to a single numpy.ndarray with numpy.array() before converting to a tensor. (Triggered internally at  ../torch/csrc/utils/tensor_new.cpp:210.)\n"
          ]
        },
        {
          "output_type": "execute_result",
          "data": {
            "text/plain": [
              "0.0"
            ]
          },
          "metadata": {},
          "execution_count": 11
        }
      ],
      "source": [
        "evaluate(env, agent, n_games=1)"
      ]
    },
    {
      "cell_type": "markdown",
      "metadata": {
        "id": "_E8rA9g7hZHW"
      },
      "source": [
        "### Experience replay\n",
        "For this assignment, we provide you with experience replay buffer. If you implemented experience replay buffer in previous assignment, you can copy-paste it here.\n",
        "\n",
        "![img](https://github.com/yandexdataschool/Practical_RL/raw/master/yet_another_week/_resource/exp_replay.png)"
      ]
    },
    {
      "cell_type": "markdown",
      "metadata": {
        "id": "NlWN33SFhZHW"
      },
      "source": [
        "The interface is fairly simple:\n",
        "* `exp_replay.add(obs, act, rw, next_obs, done)` - saves (s,a,r,s',done) tuple into the buffer\n",
        "* `exp_replay.sample(batch_size)` - returns observations, actions, rewards, next_observations and is_done for `batch_size` random samples.\n",
        "* `len(exp_replay)` - returns number of elements stored in replay buffer."
      ]
    },
    {
      "cell_type": "code",
      "execution_count": 12,
      "metadata": {
        "id": "2rgimM9hhZHW"
      },
      "outputs": [],
      "source": [
        "from replay_buffer import ReplayBuffer\n",
        "\n",
        "\n",
        "exp_replay = ReplayBuffer(10)\n",
        "\n",
        "for _ in range(30):\n",
        "    exp_replay.add(env.reset(), env.action_space.sample(), 1.0, env.reset(), done=False)\n",
        "\n",
        "obs_batch, act_batch, reward_batch, next_obs_batch, is_done_batch = exp_replay.sample(5)\n",
        "\n",
        "assert (\n",
        "    len(exp_replay) == 10\n",
        "), \"experience replay size should be 10 because that's what maximum capacity is\""
      ]
    },
    {
      "cell_type": "code",
      "execution_count": 13,
      "metadata": {
        "id": "g9SlIMR2hZHW"
      },
      "outputs": [],
      "source": [
        "def play_and_record(initial_state, agent, env, exp_replay, n_steps=1):\n",
        "    \"\"\"\n",
        "    Play the game for exactly n steps, record every (s,a,r,s', done) to replay buffer.\n",
        "    Whenever game ends, add record with done=True and reset the game.\n",
        "    It is guaranteed that env has done=False when passed to this function.\n",
        "\n",
        "    PLEASE DO NOT RESET ENV UNLESS IT IS \"DONE\"\n",
        "\n",
        "    :returns: return sum of rewards over time and the state in which the env stays\n",
        "    \"\"\"\n",
        "    s = initial_state\n",
        "    sum_rewards = 0\n",
        "\n",
        "    # YOUR CODE HERE\n",
        "    # Play the game for n_steps as per instructions above\n",
        "    for i in range(n_steps):\n",
        "        act = agent.sample_actions(agent.get_qvalues([s]))[0]\n",
        "        next_s, r, done, _ = env.step(act)\n",
        "        exp_replay.add(s, act, r, next_s, done)\n",
        "        sum_rewards += r\n",
        "        s = next_s\n",
        "        if done:\n",
        "            s = env.reset()\n",
        "\n",
        "    return sum_rewards, s"
      ]
    },
    {
      "cell_type": "code",
      "execution_count": 14,
      "metadata": {
        "id": "d7TWFgkGhZHW",
        "outputId": "eb27d577-3b5d-42fd-bf80-30aa4c3ba70c",
        "colab": {
          "base_uri": "https://localhost:8080/"
        }
      },
      "outputs": [
        {
          "output_type": "stream",
          "name": "stdout",
          "text": [
            "Well done!\n"
          ]
        }
      ],
      "source": [
        "# testing your code.\n",
        "exp_replay = ReplayBuffer(2000)\n",
        "\n",
        "state = env.reset()\n",
        "play_and_record(state, agent, env, exp_replay, n_steps=1000)\n",
        "\n",
        "# if you're using your own experience replay buffer, some of those tests may need correction.\n",
        "# just make sure you know what your code does\n",
        "assert (\n",
        "    len(exp_replay) == 1000\n",
        "), \"play_and_record should have added exactly 1000 steps, \" \"but instead added %i\" % len(exp_replay)\n",
        "is_dones = list(zip(*exp_replay._storage))[-1]\n",
        "\n",
        "assert 0 < np.mean(is_dones) < 0.1, (\n",
        "    f\"Please make sure you restart the game whenever it is 'done' and record the is_done correctly into the buffer.\"\n",
        "    f\"Got {np.mean(is_dones)} is_done rate over {len(exp_replay)} steps. [If you think it's your tough luck, just re-run the test]\"\n",
        ")\n",
        "\n",
        "for _ in range(100):\n",
        "    obs_batch, act_batch, reward_batch, next_obs_batch, is_done_batch = exp_replay.sample(10)\n",
        "    assert obs_batch.shape == next_obs_batch.shape == (10,) + state_shape\n",
        "    assert act_batch.shape == (\n",
        "        10,\n",
        "    ), \"actions batch should have shape (10,) but is instead %s\" % str(act_batch.shape)\n",
        "    assert reward_batch.shape == (\n",
        "        10,\n",
        "    ), \"rewards batch should have shape (10,) but is instead %s\" % str(reward_batch.shape)\n",
        "    assert is_done_batch.shape == (\n",
        "        10,\n",
        "    ), \"is_done batch should have shape (10,) but is instead %s\" % str(is_done_batch.shape)\n",
        "    assert [int(i) in (0, 1) for i in is_dones], \"is_done should be strictly True or False\"\n",
        "    assert [0 <= a < n_actions for a in act_batch], \"actions should be within [0, n_actions]\"\n",
        "\n",
        "print(\"Well done!\")"
      ]
    },
    {
      "cell_type": "markdown",
      "metadata": {
        "id": "n-pQvtrwhZHX"
      },
      "source": [
        "### Target networks\n",
        "\n",
        "We also employ the so called \"target network\" - a copy of neural network weights to be used for reference Q-values:\n",
        "\n",
        "The network itself is an exact copy of agent network, but it's parameters are not trained. Instead, they are moved here from agent's actual network every so often.\n",
        "\n",
        "$$ Q_{reference}(s,a) = r + \\gamma \\cdot \\max _{a'} Q_{target}(s',a') $$\n",
        "\n",
        "![img](https://github.com/yandexdataschool/Practical_RL/raw/master/yet_another_week/_resource/target_net.png)"
      ]
    },
    {
      "cell_type": "code",
      "execution_count": 15,
      "metadata": {
        "id": "MIn80voQhZHX",
        "outputId": "43122f79-0714-4b55-9768-536db067fcf9",
        "colab": {
          "base_uri": "https://localhost:8080/"
        }
      },
      "outputs": [
        {
          "output_type": "execute_result",
          "data": {
            "text/plain": [
              "<All keys matched successfully>"
            ]
          },
          "metadata": {},
          "execution_count": 15
        }
      ],
      "source": [
        "target_network = DQNAgent(agent.state_shape, agent.n_actions, epsilon=0.5).to(device)\n",
        "# This is how you can load weights from agent into target network\n",
        "target_network.load_state_dict(agent.state_dict())"
      ]
    },
    {
      "cell_type": "markdown",
      "metadata": {
        "id": "5NigolcGhZHX"
      },
      "source": [
        "### Learning with... Q-learning\n",
        "Here we write a function similar to `agent.update` from tabular q-learning."
      ]
    },
    {
      "cell_type": "markdown",
      "metadata": {
        "id": "9hS2DA5ihZHX"
      },
      "source": [
        "Compute Q-learning TD error:\n",
        "\n",
        "$$ L = { 1 \\over N} \\sum_i [ Q_{\\theta}(s,a) - Q_{reference}(s,a) ] ^2 $$\n",
        "\n",
        "With Q-reference defined as\n",
        "\n",
        "$$ Q_{reference}(s,a) = r(s,a) + \\gamma \\cdot max_{a'} Q_{target}(s', a') $$\n",
        "\n",
        "Where\n",
        "* $Q_{target}(s',a')$ denotes q-value of next state and next action predicted by __target_network__\n",
        "* $s, a, r, s'$ are current state, action, reward and next state respectively\n",
        "* $\\gamma$ is a discount factor defined two cells above.\n",
        "\n",
        "\n",
        "__Note 1:__ there's an example input below. Feel free to experiment with it before you write the function.\n",
        "\n",
        "__Note 2:__ compute_td_loss is a source of 99% of bugs in this homework. If reward doesn't improve, it often helps to go through it line by line [with a rubber duck](https://rubberduckdebugging.com/)."
      ]
    },
    {
      "cell_type": "code",
      "execution_count": 16,
      "metadata": {
        "id": "f7s2jghbhZHX"
      },
      "outputs": [],
      "source": [
        "def compute_td_loss(\n",
        "    states,\n",
        "    actions,\n",
        "    rewards,\n",
        "    next_states,\n",
        "    done,\n",
        "    agent,\n",
        "    target_network,\n",
        "    gamma=0.99,\n",
        "    check_shapes=False,\n",
        "):\n",
        "    \"\"\"Compute td loss using torch operations only. Use the formula above.\"\"\"\n",
        "    states = torch.tensor(\n",
        "        states, device=device, dtype=torch.float32\n",
        "    )  # shape: [batch_size, state_size]\n",
        "    actions = torch.tensor(actions, device=device, dtype=torch.long)  # shape: [batch_size]\n",
        "    rewards = torch.tensor(rewards, device=device, dtype=torch.float32)  # shape: [batch_size]\n",
        "    next_states = torch.tensor(\n",
        "        next_states, device=device, dtype=torch.float32\n",
        "    )  # shape: [batch_size, state_size]\n",
        "    done = torch.tensor(done, device=device, dtype=torch.bool)  # shape: [batch_size]\n",
        "\n",
        "    # get q-values for all actions in current states\n",
        "    predicted_qvalues = agent(states)\n",
        "\n",
        "    # select q-values for chosen actions\n",
        "    predicted_qvalues_for_actions = predicted_qvalues[range(states.shape[0]), actions]\n",
        "\n",
        "    # compute q-values for all actions in next states\n",
        "    predicted_next_qvalues = target_network(next_states)\n",
        "\n",
        "    # YOUR CODE HERE\n",
        "    # compute V*(next_states) using predicted next q-values\n",
        "    next_state_values = predicted_next_qvalues.max(1).values\n",
        "\n",
        "    assert next_state_values.dtype == torch.float32\n",
        "\n",
        "    # YOUR CODE HERE\n",
        "    # compute \"target q-values\" for loss - it's what's inside square parentheses in the above formula.\n",
        "    # at the last state we shall use simplified formula: Q(s,a) = r(s,a) since s' doesn't exist\n",
        "    target_qvalues_for_actions = rewards + gamma * next_state_values * (~done)\n",
        "\n",
        "    # mean squared error loss to minimize\n",
        "    loss = F.mse_loss(predicted_qvalues_for_actions, target_qvalues_for_actions.detach())\n",
        "\n",
        "    if check_shapes:\n",
        "        assert (\n",
        "            predicted_next_qvalues.data.dim() == 2\n",
        "        ), \"make sure you predicted q-values for all actions in next state\"\n",
        "        assert (\n",
        "            next_state_values.data.dim() == 1\n",
        "        ), \"make sure you computed V(s') as maximum over just the actions axis and not all axes\"\n",
        "        assert (\n",
        "            target_qvalues_for_actions.data.dim() == 1\n",
        "        ), \"there's something wrong with target q-values, they must be a vector\"\n",
        "\n",
        "    return loss"
      ]
    },
    {
      "cell_type": "markdown",
      "metadata": {
        "id": "FeIPIPNAhZHX"
      },
      "source": [
        "Sanity checks"
      ]
    },
    {
      "cell_type": "code",
      "execution_count": 17,
      "metadata": {
        "id": "8dL-VPmAhZHX"
      },
      "outputs": [],
      "source": [
        "obs_batch, act_batch, reward_batch, next_obs_batch, is_done_batch = exp_replay.sample(10)\n",
        "\n",
        "loss = compute_td_loss(\n",
        "    obs_batch,\n",
        "    act_batch,\n",
        "    reward_batch,\n",
        "    next_obs_batch,\n",
        "    is_done_batch,\n",
        "    agent,\n",
        "    target_network,\n",
        "    gamma=0.99,\n",
        "    check_shapes=True,\n",
        ")\n",
        "loss.backward()\n",
        "\n",
        "assert (\n",
        "    loss.requires_grad and tuple(loss.data.size()) == ()\n",
        "), \"you must return scalar loss - mean over batch\"\n",
        "assert np.any(\n",
        "    next(agent.parameters()).grad.data.cpu().numpy() != 0\n",
        "), \"loss must be differentiable w.r.t. network weights\"\n",
        "assert np.all(\n",
        "    next(target_network.parameters()).grad is None\n",
        "), \"target network should not have grads\""
      ]
    },
    {
      "cell_type": "markdown",
      "metadata": {
        "id": "HmvLmcx9hZHX"
      },
      "source": [
        "## Main loop\n",
        "\n",
        "**If deadline is tonight and it has not converged:** It is ok. Send the notebook today and when it converges send it again.\n",
        "\n",
        "It's time to put everything together and see if it learns anything."
      ]
    },
    {
      "cell_type": "code",
      "execution_count": 18,
      "metadata": {
        "id": "tcMTNyk5hZHX",
        "outputId": "9e4c9936-7993-4546-e43b-5c3d9b703159",
        "colab": {
          "base_uri": "https://localhost:8080/"
        }
      },
      "outputs": [
        {
          "output_type": "execute_result",
          "data": {
            "text/plain": [
              "<All keys matched successfully>"
            ]
          },
          "metadata": {},
          "execution_count": 18
        }
      ],
      "source": [
        "# YOUR CODE HERE\n",
        "# Choose your favourite seed.\n",
        "seed = 42\n",
        "\n",
        "env = make_env(seed)\n",
        "state_shape = env.observation_space.shape\n",
        "n_actions = env.action_space.n\n",
        "state = env.reset()\n",
        "\n",
        "agent = DQNAgent(state_shape, n_actions, epsilon=1).to(device)\n",
        "target_network = DQNAgent(state_shape, n_actions, epsilon=1).to(device)\n",
        "target_network.load_state_dict(agent.state_dict())"
      ]
    },
    {
      "cell_type": "markdown",
      "metadata": {
        "id": "b3llRLjShZHX"
      },
      "source": [
        "Buffer of size $10^4$ fits into 5 Gb RAM.\n",
        "\n",
        "Larger sizes ($10^5$ and $10^6$ are common) can be used. It can improve the learning, but $10^4$ is quiet enough. $10^2$ will probably fail learning."
      ]
    },
    {
      "cell_type": "code",
      "execution_count": 19,
      "metadata": {
        "id": "IETsnmkshZHX",
        "outputId": "e69c2316-4bbf-4388-8967-ec9b2c0020e6",
        "colab": {
          "base_uri": "https://localhost:8080/"
        }
      },
      "outputs": [
        {
          "output_type": "stream",
          "name": "stdout",
          "text": [
            "10000\n"
          ]
        }
      ],
      "source": [
        "exp_replay = ReplayBuffer(10_000)\n",
        "for i in range(100):\n",
        "    if not utils.is_enough_ram(min_available_gb=0.1):\n",
        "        print(\n",
        "            \"\"\"\n",
        "            Less than 100 Mb RAM available. \n",
        "            Make sure the buffer size in not too huge.\n",
        "            Also check, maybe other processes consume RAM heavily.\n",
        "            \"\"\"\n",
        "        )\n",
        "        break\n",
        "\n",
        "    play_and_record(state, agent, env, exp_replay, n_steps=100)\n",
        "\n",
        "print(len(exp_replay))"
      ]
    },
    {
      "cell_type": "code",
      "execution_count": 20,
      "metadata": {
        "id": "ei5Pl-ZOhZHX"
      },
      "outputs": [],
      "source": [
        "timesteps_per_epoch = 1\n",
        "batch_size = 16\n",
        "total_steps = 3_000_000\n",
        "decay_steps = 1_000_000\n",
        "\n",
        "opt = torch.optim.Adam(agent.parameters(), lr=1e-4)\n",
        "\n",
        "init_epsilon = 1\n",
        "final_epsilon = 0.1\n",
        "\n",
        "loss_freq = 50\n",
        "refresh_target_network_freq = 5000\n",
        "eval_freq = 5000\n",
        "\n",
        "max_grad_norm = 50\n",
        "\n",
        "n_lives = 5"
      ]
    },
    {
      "cell_type": "code",
      "execution_count": 21,
      "metadata": {
        "id": "Pux3ocdfhZHX"
      },
      "outputs": [],
      "source": [
        "mean_rw_history = []\n",
        "td_loss_history = []\n",
        "grad_norm_history = []\n",
        "initial_state_v_history = []"
      ]
    },
    {
      "cell_type": "code",
      "execution_count": 22,
      "metadata": {
        "id": "Lefb4CEZhZHX",
        "scrolled": false,
        "outputId": "fa976667-de6f-4254-8891-044507388d9d",
        "colab": {
          "base_uri": "https://localhost:8080/",
          "height": 933
        }
      },
      "outputs": [
        {
          "output_type": "stream",
          "name": "stdout",
          "text": [
            "buffer size = 10000, epsilon = 0.10000\n"
          ]
        },
        {
          "output_type": "display_data",
          "data": {
            "text/plain": [
              "<Figure size 1152x648 with 4 Axes>"
            ],
            "image/png": "[encoded data removed]"
          },
          "metadata": {
            "needs_background": "light"
          }
        },
        {
          "output_type": "error",
          "ename": "KeyboardInterrupt",
          "evalue": "ignored",
          "traceback": [
            "\u001b[0;31m---------------------------------------------------------------------------\u001b[0m",
            "\u001b[0;31mKeyboardInterrupt\u001b[0m                         Traceback (most recent call last)",
            "\u001b[0;32m<ipython-input-22-92c6146fb66c>\u001b[0m in \u001b[0;36m<module>\u001b[0;34m()\u001b[0m\n\u001b[1;32m     23\u001b[0m     \u001b[0;31m# Sample batch_size of data from experience replay and compute td loss.\u001b[0m\u001b[0;34m\u001b[0m\u001b[0;34m\u001b[0m\u001b[0;34m\u001b[0m\u001b[0m\n\u001b[1;32m     24\u001b[0m     \u001b[0mstates\u001b[0m\u001b[0;34m,\u001b[0m \u001b[0mactions\u001b[0m\u001b[0;34m,\u001b[0m \u001b[0mrewards\u001b[0m\u001b[0;34m,\u001b[0m \u001b[0mnext_states\u001b[0m\u001b[0;34m,\u001b[0m \u001b[0mdone\u001b[0m \u001b[0;34m=\u001b[0m \u001b[0mexp_replay\u001b[0m\u001b[0;34m.\u001b[0m\u001b[0msample\u001b[0m\u001b[0;34m(\u001b[0m\u001b[0mbatch_size\u001b[0m\u001b[0;34m)\u001b[0m\u001b[0;34m\u001b[0m\u001b[0;34m\u001b[0m\u001b[0m\n\u001b[0;32m---> 25\u001b[0;31m     \u001b[0mloss\u001b[0m \u001b[0;34m=\u001b[0m \u001b[0mcompute_td_loss\u001b[0m\u001b[0;34m(\u001b[0m\u001b[0mstates\u001b[0m\u001b[0;34m,\u001b[0m \u001b[0mactions\u001b[0m\u001b[0;34m,\u001b[0m \u001b[0mrewards\u001b[0m\u001b[0;34m,\u001b[0m \u001b[0mnext_states\u001b[0m\u001b[0;34m,\u001b[0m \u001b[0mdone\u001b[0m\u001b[0;34m,\u001b[0m \u001b[0magent\u001b[0m\u001b[0;34m,\u001b[0m \u001b[0mtarget_network\u001b[0m\u001b[0;34m)\u001b[0m\u001b[0;34m\u001b[0m\u001b[0;34m\u001b[0m\u001b[0m\n\u001b[0m\u001b[1;32m     26\u001b[0m \u001b[0;34m\u001b[0m\u001b[0m\n\u001b[1;32m     27\u001b[0m     \u001b[0mopt\u001b[0m\u001b[0;34m.\u001b[0m\u001b[0mzero_grad\u001b[0m\u001b[0;34m(\u001b[0m\u001b[0;34m)\u001b[0m\u001b[0;34m\u001b[0m\u001b[0;34m\u001b[0m\u001b[0m\n",
            "\u001b[0;32m<ipython-input-16-0e2835db3149>\u001b[0m in \u001b[0;36mcompute_td_loss\u001b[0;34m(states, actions, rewards, next_states, done, agent, target_network, gamma, check_shapes)\u001b[0m\n\u001b[1;32m     22\u001b[0m \u001b[0;34m\u001b[0m\u001b[0m\n\u001b[1;32m     23\u001b[0m     \u001b[0;31m# get q-values for all actions in current states\u001b[0m\u001b[0;34m\u001b[0m\u001b[0;34m\u001b[0m\u001b[0;34m\u001b[0m\u001b[0m\n\u001b[0;32m---> 24\u001b[0;31m     \u001b[0mpredicted_qvalues\u001b[0m \u001b[0;34m=\u001b[0m \u001b[0magent\u001b[0m\u001b[0;34m(\u001b[0m\u001b[0mstates\u001b[0m\u001b[0;34m)\u001b[0m\u001b[0;34m\u001b[0m\u001b[0;34m\u001b[0m\u001b[0m\n\u001b[0m\u001b[1;32m     25\u001b[0m \u001b[0;34m\u001b[0m\u001b[0m\n\u001b[1;32m     26\u001b[0m     \u001b[0;31m# select q-values for chosen actions\u001b[0m\u001b[0;34m\u001b[0m\u001b[0;34m\u001b[0m\u001b[0;34m\u001b[0m\u001b[0m\n",
            "\u001b[0;32m/usr/local/lib/python3.7/dist-packages/torch/nn/modules/module.py\u001b[0m in \u001b[0;36m_call_impl\u001b[0;34m(self, *input, **kwargs)\u001b[0m\n\u001b[1;32m   1108\u001b[0m         if not (self._backward_hooks or self._forward_hooks or self._forward_pre_hooks or _global_backward_hooks\n\u001b[1;32m   1109\u001b[0m                 or _global_forward_hooks or _global_forward_pre_hooks):\n\u001b[0;32m-> 1110\u001b[0;31m             \u001b[0;32mreturn\u001b[0m \u001b[0mforward_call\u001b[0m\u001b[0;34m(\u001b[0m\u001b[0;34m*\u001b[0m\u001b[0minput\u001b[0m\u001b[0;34m,\u001b[0m \u001b[0;34m**\u001b[0m\u001b[0mkwargs\u001b[0m\u001b[0;34m)\u001b[0m\u001b[0;34m\u001b[0m\u001b[0;34m\u001b[0m\u001b[0m\n\u001b[0m\u001b[1;32m   1111\u001b[0m         \u001b[0;31m# Do not call functions when jit is used\u001b[0m\u001b[0;34m\u001b[0m\u001b[0;34m\u001b[0m\u001b[0;34m\u001b[0m\u001b[0m\n\u001b[1;32m   1112\u001b[0m         \u001b[0mfull_backward_hooks\u001b[0m\u001b[0;34m,\u001b[0m \u001b[0mnon_full_backward_hooks\u001b[0m \u001b[0;34m=\u001b[0m \u001b[0;34m[\u001b[0m\u001b[0;34m]\u001b[0m\u001b[0;34m,\u001b[0m \u001b[0;34m[\u001b[0m\u001b[0;34m]\u001b[0m\u001b[0;34m\u001b[0m\u001b[0;34m\u001b[0m\u001b[0m\n",
            "\u001b[0;32m<ipython-input-8-a3a2a1c73155>\u001b[0m in \u001b[0;36mforward\u001b[0;34m(self, state_t)\u001b[0m\n\u001b[1;32m     47\u001b[0m         \u001b[0;31m# qvalues = F.relu(self.l4(qvalues))\u001b[0m\u001b[0;34m\u001b[0m\u001b[0;34m\u001b[0m\u001b[0;34m\u001b[0m\u001b[0m\n\u001b[1;32m     48\u001b[0m         \u001b[0;31m# qvalues = self.l5(qvalues)\u001b[0m\u001b[0;34m\u001b[0m\u001b[0;34m\u001b[0m\u001b[0;34m\u001b[0m\u001b[0m\n\u001b[0;32m---> 49\u001b[0;31m         \u001b[0mqvalues\u001b[0m \u001b[0;34m=\u001b[0m \u001b[0mself\u001b[0m\u001b[0;34m.\u001b[0m\u001b[0mmodel\u001b[0m\u001b[0;34m(\u001b[0m\u001b[0mstate_t\u001b[0m\u001b[0;34m)\u001b[0m\u001b[0;34m\u001b[0m\u001b[0;34m\u001b[0m\u001b[0m\n\u001b[0m\u001b[1;32m     50\u001b[0m \u001b[0;34m\u001b[0m\u001b[0m\n\u001b[1;32m     51\u001b[0m         \u001b[0;32massert\u001b[0m \u001b[0mqvalues\u001b[0m\u001b[0;34m.\u001b[0m\u001b[0mrequires_grad\u001b[0m\u001b[0;34m,\u001b[0m \u001b[0;34m\"qvalues must be a torch tensor with grad\"\u001b[0m\u001b[0;34m\u001b[0m\u001b[0;34m\u001b[0m\u001b[0m\n",
            "\u001b[0;32m/usr/local/lib/python3.7/dist-packages/torch/nn/modules/module.py\u001b[0m in \u001b[0;36m_call_impl\u001b[0;34m(self, *input, **kwargs)\u001b[0m\n\u001b[1;32m   1108\u001b[0m         if not (self._backward_hooks or self._forward_hooks or self._forward_pre_hooks or _global_backward_hooks\n\u001b[1;32m   1109\u001b[0m                 or _global_forward_hooks or _global_forward_pre_hooks):\n\u001b[0;32m-> 1110\u001b[0;31m             \u001b[0;32mreturn\u001b[0m \u001b[0mforward_call\u001b[0m\u001b[0;34m(\u001b[0m\u001b[0;34m*\u001b[0m\u001b[0minput\u001b[0m\u001b[0;34m,\u001b[0m \u001b[0;34m**\u001b[0m\u001b[0mkwargs\u001b[0m\u001b[0;34m)\u001b[0m\u001b[0;34m\u001b[0m\u001b[0;34m\u001b[0m\u001b[0m\n\u001b[0m\u001b[1;32m   1111\u001b[0m         \u001b[0;31m# Do not call functions when jit is used\u001b[0m\u001b[0;34m\u001b[0m\u001b[0;34m\u001b[0m\u001b[0;34m\u001b[0m\u001b[0m\n\u001b[1;32m   1112\u001b[0m         \u001b[0mfull_backward_hooks\u001b[0m\u001b[0;34m,\u001b[0m \u001b[0mnon_full_backward_hooks\u001b[0m \u001b[0;34m=\u001b[0m \u001b[0;34m[\u001b[0m\u001b[0;34m]\u001b[0m\u001b[0;34m,\u001b[0m \u001b[0;34m[\u001b[0m\u001b[0;34m]\u001b[0m\u001b[0;34m\u001b[0m\u001b[0;34m\u001b[0m\u001b[0m\n",
            "\u001b[0;32m/usr/local/lib/python3.7/dist-packages/torch/nn/modules/container.py\u001b[0m in \u001b[0;36mforward\u001b[0;34m(self, input)\u001b[0m\n\u001b[1;32m    139\u001b[0m     \u001b[0;32mdef\u001b[0m \u001b[0mforward\u001b[0m\u001b[0;34m(\u001b[0m\u001b[0mself\u001b[0m\u001b[0;34m,\u001b[0m \u001b[0minput\u001b[0m\u001b[0;34m)\u001b[0m\u001b[0;34m:\u001b[0m\u001b[0;34m\u001b[0m\u001b[0;34m\u001b[0m\u001b[0m\n\u001b[1;32m    140\u001b[0m         \u001b[0;32mfor\u001b[0m \u001b[0mmodule\u001b[0m \u001b[0;32min\u001b[0m \u001b[0mself\u001b[0m\u001b[0;34m:\u001b[0m\u001b[0;34m\u001b[0m\u001b[0;34m\u001b[0m\u001b[0m\n\u001b[0;32m--> 141\u001b[0;31m             \u001b[0minput\u001b[0m \u001b[0;34m=\u001b[0m \u001b[0mmodule\u001b[0m\u001b[0;34m(\u001b[0m\u001b[0minput\u001b[0m\u001b[0;34m)\u001b[0m\u001b[0;34m\u001b[0m\u001b[0;34m\u001b[0m\u001b[0m\n\u001b[0m\u001b[1;32m    142\u001b[0m         \u001b[0;32mreturn\u001b[0m \u001b[0minput\u001b[0m\u001b[0;34m\u001b[0m\u001b[0;34m\u001b[0m\u001b[0m\n\u001b[1;32m    143\u001b[0m \u001b[0;34m\u001b[0m\u001b[0m\n",
            "\u001b[0;32m/usr/local/lib/python3.7/dist-packages/torch/nn/modules/module.py\u001b[0m in \u001b[0;36m_call_impl\u001b[0;34m(self, *input, **kwargs)\u001b[0m\n\u001b[1;32m   1108\u001b[0m         if not (self._backward_hooks or self._forward_hooks or self._forward_pre_hooks or _global_backward_hooks\n\u001b[1;32m   1109\u001b[0m                 or _global_forward_hooks or _global_forward_pre_hooks):\n\u001b[0;32m-> 1110\u001b[0;31m             \u001b[0;32mreturn\u001b[0m \u001b[0mforward_call\u001b[0m\u001b[0;34m(\u001b[0m\u001b[0;34m*\u001b[0m\u001b[0minput\u001b[0m\u001b[0;34m,\u001b[0m \u001b[0;34m**\u001b[0m\u001b[0mkwargs\u001b[0m\u001b[0;34m)\u001b[0m\u001b[0;34m\u001b[0m\u001b[0;34m\u001b[0m\u001b[0m\n\u001b[0m\u001b[1;32m   1111\u001b[0m         \u001b[0;31m# Do not call functions when jit is used\u001b[0m\u001b[0;34m\u001b[0m\u001b[0;34m\u001b[0m\u001b[0;34m\u001b[0m\u001b[0m\n\u001b[1;32m   1112\u001b[0m         \u001b[0mfull_backward_hooks\u001b[0m\u001b[0;34m,\u001b[0m \u001b[0mnon_full_backward_hooks\u001b[0m \u001b[0;34m=\u001b[0m \u001b[0;34m[\u001b[0m\u001b[0;34m]\u001b[0m\u001b[0;34m,\u001b[0m \u001b[0;34m[\u001b[0m\u001b[0;34m]\u001b[0m\u001b[0;34m\u001b[0m\u001b[0;34m\u001b[0m\u001b[0m\n",
            "\u001b[0;32m/usr/local/lib/python3.7/dist-packages/torch/nn/modules/conv.py\u001b[0m in \u001b[0;36mforward\u001b[0;34m(self, input)\u001b[0m\n\u001b[1;32m    445\u001b[0m \u001b[0;34m\u001b[0m\u001b[0m\n\u001b[1;32m    446\u001b[0m     \u001b[0;32mdef\u001b[0m \u001b[0mforward\u001b[0m\u001b[0;34m(\u001b[0m\u001b[0mself\u001b[0m\u001b[0;34m,\u001b[0m \u001b[0minput\u001b[0m\u001b[0;34m:\u001b[0m \u001b[0mTensor\u001b[0m\u001b[0;34m)\u001b[0m \u001b[0;34m->\u001b[0m \u001b[0mTensor\u001b[0m\u001b[0;34m:\u001b[0m\u001b[0;34m\u001b[0m\u001b[0;34m\u001b[0m\u001b[0m\n\u001b[0;32m--> 447\u001b[0;31m         \u001b[0;32mreturn\u001b[0m \u001b[0mself\u001b[0m\u001b[0;34m.\u001b[0m\u001b[0m_conv_forward\u001b[0m\u001b[0;34m(\u001b[0m\u001b[0minput\u001b[0m\u001b[0;34m,\u001b[0m \u001b[0mself\u001b[0m\u001b[0;34m.\u001b[0m\u001b[0mweight\u001b[0m\u001b[0;34m,\u001b[0m \u001b[0mself\u001b[0m\u001b[0;34m.\u001b[0m\u001b[0mbias\u001b[0m\u001b[0;34m)\u001b[0m\u001b[0;34m\u001b[0m\u001b[0;34m\u001b[0m\u001b[0m\n\u001b[0m\u001b[1;32m    448\u001b[0m \u001b[0;34m\u001b[0m\u001b[0m\n\u001b[1;32m    449\u001b[0m \u001b[0;32mclass\u001b[0m \u001b[0mConv3d\u001b[0m\u001b[0;34m(\u001b[0m\u001b[0m_ConvNd\u001b[0m\u001b[0;34m)\u001b[0m\u001b[0;34m:\u001b[0m\u001b[0;34m\u001b[0m\u001b[0;34m\u001b[0m\u001b[0m\n",
            "\u001b[0;32m/usr/local/lib/python3.7/dist-packages/torch/nn/modules/conv.py\u001b[0m in \u001b[0;36m_conv_forward\u001b[0;34m(self, input, weight, bias)\u001b[0m\n\u001b[1;32m    442\u001b[0m                             _pair(0), self.dilation, self.groups)\n\u001b[1;32m    443\u001b[0m         return F.conv2d(input, weight, bias, self.stride,\n\u001b[0;32m--> 444\u001b[0;31m                         self.padding, self.dilation, self.groups)\n\u001b[0m\u001b[1;32m    445\u001b[0m \u001b[0;34m\u001b[0m\u001b[0m\n\u001b[1;32m    446\u001b[0m     \u001b[0;32mdef\u001b[0m \u001b[0mforward\u001b[0m\u001b[0;34m(\u001b[0m\u001b[0mself\u001b[0m\u001b[0;34m,\u001b[0m \u001b[0minput\u001b[0m\u001b[0;34m:\u001b[0m \u001b[0mTensor\u001b[0m\u001b[0;34m)\u001b[0m \u001b[0;34m->\u001b[0m \u001b[0mTensor\u001b[0m\u001b[0;34m:\u001b[0m\u001b[0;34m\u001b[0m\u001b[0;34m\u001b[0m\u001b[0m\n",
            "\u001b[0;31mKeyboardInterrupt\u001b[0m: "
          ]
        }
      ],
      "source": [
        "from IPython.display import clear_output\n",
        "\n",
        "\n",
        "state = env.reset()\n",
        "for step in range(total_steps + 1):\n",
        "    if not utils.is_enough_ram(min_available_gb=0.1):\n",
        "        print('less that 100 Mb RAM available, freezing')\n",
        "        print('make sure everything is ok and make KeyboardInterrupt to continue')\n",
        "        try:\n",
        "            while True:\n",
        "                pass\n",
        "        except KeyboardInterrupt:\n",
        "            pass\n",
        "\n",
        "    agent.epsilon = utils.linear_decay(init_epsilon, final_epsilon, step, decay_steps)\n",
        "\n",
        "    # play\n",
        "    _, state = play_and_record(state, agent, env, exp_replay, timesteps_per_epoch)\n",
        "\n",
        "    # train\n",
        "\n",
        "    # YOUR CODE HERE\n",
        "    # Sample batch_size of data from experience replay and compute td loss.\n",
        "    states, actions, rewards, next_states, done = exp_replay.sample(batch_size)\n",
        "    loss = compute_td_loss(states, actions, rewards, next_states, done, agent, target_network)\n",
        "\n",
        "    opt.zero_grad()\n",
        "    loss.backward()\n",
        "    grad_norm = nn.utils.clip_grad_norm_(agent.parameters(), max_grad_norm)\n",
        "    opt.step()\n",
        "\n",
        "    if step % loss_freq == 0:\n",
        "        td_loss_history.append(loss.item())\n",
        "        grad_norm_history.append(grad_norm.item())\n",
        "\n",
        "    if step % refresh_target_network_freq == 0:\n",
        "        # YOUR CODE HERE\n",
        "        # Load agent weights into target_network\n",
        "        target_network.load_state_dict(agent.state_dict())\n",
        "        pass\n",
        "\n",
        "    if step % eval_freq == 0:\n",
        "        # eval the agent\n",
        "        mean_rw_history.append(\n",
        "            evaluate(make_env(seed=step), agent, n_games=3, greedy=True, t_max=1000)\n",
        "        )\n",
        "        initial_state_q_values = agent.get_qvalues([make_env(seed=step).reset()])\n",
        "        initial_state_v_history.append(np.max(initial_state_q_values))\n",
        "\n",
        "        clear_output(True)\n",
        "        print(\"buffer size = %i, epsilon = %.5f\" % (len(exp_replay), agent.epsilon))\n",
        "\n",
        "        plt.figure(figsize=[16, 9])\n",
        "        plt.subplot(2, 2, 1)\n",
        "        plt.title(\"Mean reward per episode\")\n",
        "        plt.plot(mean_rw_history)\n",
        "        plt.grid()\n",
        "\n",
        "        assert not np.isnan(td_loss_history[-1])\n",
        "        plt.subplot(2, 2, 2)\n",
        "        plt.title(\"TD loss history (smoothened)\")\n",
        "        plt.plot(utils.smoothen(td_loss_history))\n",
        "        plt.grid()\n",
        "\n",
        "        plt.subplot(2, 2, 3)\n",
        "        plt.title(\"Initial state V\")\n",
        "        plt.plot(initial_state_v_history)\n",
        "        plt.grid()\n",
        "\n",
        "        plt.subplot(2, 2, 4)\n",
        "        plt.title(\"Grad norm history (smoothened)\")\n",
        "        plt.plot(utils.smoothen(grad_norm_history))\n",
        "        plt.grid()\n",
        "\n",
        "        plt.show()"
      ]
    },
    {
      "cell_type": "markdown",
      "metadata": {
        "id": "UF0yo9echZHY"
      },
      "source": [
        "Agent is evaluated for 1 life, not for a whole episode of 5 lives. Rewards in evaluation are also truncated. Cuz this is what environment the agent is learning in and in this way mean rewards per life can be compared with initial state value\n",
        "\n",
        "The goal is to get 10 points in the real env. So 2 or better 3 points in the preprocessed one will probably be enough. You can interrupt learning then."
      ]
    },
    {
      "cell_type": "markdown",
      "metadata": {
        "id": "rvI0F_NkhZHY"
      },
      "source": [
        "Final scoring is done on a whole episode with all 5 lives."
      ]
    },
    {
      "cell_type": "code",
      "execution_count": 23,
      "metadata": {
        "id": "X20BC5RshZHY",
        "colab": {
          "base_uri": "https://localhost:8080/"
        },
        "outputId": "bb9b1d30-8654-40a3-c470-258d8e1ad113"
      },
      "outputs": [
        {
          "output_type": "stream",
          "name": "stdout",
          "text": [
            "final score: 28.0\n",
            "Cool!\n"
          ]
        }
      ],
      "source": [
        "final_score = (\n",
        "    evaluate(make_env(clip_rewards=False, seed=9), agent, n_games=30, greedy=True, t_max=10_000)\n",
        "    * n_lives\n",
        ")\n",
        "print('final score:', final_score)\n",
        "assert final_score > 10, 'not as cool as DQN can'\n",
        "print('Cool!')"
      ]
    },
    {
      "cell_type": "markdown",
      "metadata": {
        "id": "kCFeQM_EhZHY"
      },
      "source": [
        "## How to interpret plots:\n",
        "\n",
        "This aint no supervised learning so don't expect anything to improve monotonously. \n",
        "* **TD loss** is the MSE between agent's current Q-values and target Q-values. It may slowly increase or decrease, it's ok. The \"not ok\" behavior includes going NaN or stayng at exactly zero before agent has perfect performance.\n",
        "* **grad norm** just shows the intensivity of training. Not ok is growing to values of about 100 (or maybe even 50) though it depends on network architecture.\n",
        "* **mean reward** is the expected sum of r(s,a) agent gets over the full game session. It will oscillate, but on average it should get higher over time (after a few thousand iterations...). \n",
        " * In basic q-learning implementation it takes about 40k steps to \"warm up\" agent before it starts to get better.\n",
        "* **Initial state V** is the expected discounted reward for episode in the oppinion of the agent. It should behave more smoothly than **mean reward**. It should get higher over time but sometimes can experience drawdowns because of the agaent's overestimates.\n",
        "* **buffer size** - this one is simple. It should go up and cap at max size.\n",
        "* **epsilon** - agent's willingness to explore. If you see that agent's already at 0.01 epsilon before it's average reward is above 0 - it means you need to increase epsilon. Set it back to some 0.2 - 0.5 and decrease the pace at which it goes down.\n",
        "* Smoothing of plots is done with a gaussian kernel\n",
        "\n",
        "At first your agent will lose quickly. Then it will learn to suck less and at least hit the ball a few times before it loses. Finally it will learn to actually score points.\n",
        "\n",
        "**Training will take time.** A lot of it actually. Probably you will not see any improvment during first **150k** time steps (note that by default in this notebook agent is evaluated every 5000 time steps).\n",
        "\n",
        "But hey, long training time isn't _that_ bad:\n",
        "![img](https://github.com/yandexdataschool/Practical_RL/raw/master/yet_another_week/_resource/training.png)"
      ]
    },
    {
      "cell_type": "markdown",
      "metadata": {
        "id": "UwXIhyyghZHY"
      },
      "source": [
        "## About hyperparameters:\n",
        "\n",
        "The task has something in common with supervised learning: loss is optimized through the buffer (instead of Train dataset). But the distribution of states and actions in the buffer **is not stationary** and depends on the policy that generated it. It can even happen that the mean TD error across the buffer is very low but the performance is extremely poor (imagine the agent collecting data to the buffer always manages to avoid the ball).\n",
        "\n",
        "* Total timesteps and training time: It seems to be so huge, but actually it is normal for RL.\n",
        "\n",
        "* $\\epsilon$ decay shedule was taken from the original paper and is like traditional for epsilon-greedy policies. At the beginning of the training the agent's greedy policy is poor so many random actions should be taken.\n",
        "\n",
        "* Optimizer: In the original paper RMSProp was used (they did not have Adam in 2013) and it can work not worse than Adam. For us Adam was default and it worked.\n",
        "\n",
        "* lr: $10^{-3}$ would probably be too huge\n",
        "\n",
        "* batch size: This one can be very important: if it is too small the agent can fail to learn. Huge batch takes more time to process. If batch of size 8 can not be processed on the hardware you use take 2 (or even 4) batches of size 4, divide the loss on them by 2 (or 4) and make optimization step after both backward() calls in torch.\n",
        "\n",
        "* target network update frequency: has something in common with learning rate. Too frequent updates can lead to divergence. Too rare can lead to slow leraning. For millions of total timesteps thousands of inner steps seem ok. One iteration of target network updating is an iteration of the (this time approximate) $\\gamma$-compression that stands behind Q-learning. The more inner steps it makes the more accurate is the compression.\n",
        "* max_grad_norm - just huge enough. In torch clip_grad_norm also evaluates the norm before clipping and it can be convenient for logging."
      ]
    },
    {
      "cell_type": "markdown",
      "metadata": {
        "id": "XeRJxPPChZHY"
      },
      "source": [
        "### Video"
      ]
    },
    {
      "cell_type": "code",
      "execution_count": 24,
      "metadata": {
        "id": "f2Vebwv7hZHY",
        "scrolled": false
      },
      "outputs": [],
      "source": [
        "import gym.wrappers\n",
        "\n",
        "\n",
        "with gym.wrappers.Monitor(make_env(), directory=\"videos\", force=True) as env_monitor:\n",
        "    sessions = [evaluate(env_monitor, agent, n_games=n_lives, greedy=True) for _ in range(10)]"
      ]
    },
    {
      "cell_type": "code",
      "execution_count": 25,
      "metadata": {
        "id": "ktqKY-vthZHY",
        "colab": {
          "base_uri": "https://localhost:8080/",
          "height": 501
        },
        "outputId": "b7889af9-2e96-44ee-9b1f-48e9b8f73547"
      },
      "outputs": [
        {
          "output_type": "execute_result",
          "data": {
            "text/plain": [
              "<IPython.core.display.HTML object>"
            ],
            "text/html": [
              "\n",
              "<video width=\"640\" height=\"480\" controls>\n",
              "  <source src=\"data:video/mp4;base64,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\" type=\"video/mp4\">\n",
              "</video>\n"
            ]
          },
          "metadata": {},
          "execution_count": 25
        }
      ],
      "source": [
        "from base64 import b64encode\n",
        "from pathlib import Path\n",
        "\n",
        "from IPython.display import HTML\n",
        "\n",
        "\n",
        "video_paths = sorted([s for s in Path(\"videos\").iterdir() if s.suffix == \".mp4\"])\n",
        "video_path = video_paths[-1]  # You can also try other indices\n",
        "\n",
        "if \"google.colab\" in sys.modules:\n",
        "    # https://stackoverflow.com/a/57378660/1214547\n",
        "    with video_path.open('rb') as fp:\n",
        "        mp4 = fp.read()\n",
        "    data_url = \"data:video/mp4;base64,\" + b64encode(mp4).decode()\n",
        "else:\n",
        "    data_url = str(video_path)\n",
        "\n",
        "HTML(\n",
        "    \"\"\"\n",
        "<video width=\"640\" height=\"480\" controls>\n",
        "  <source src=\"{}\" type=\"video/mp4\">\n",
        "</video>\n",
        "\"\"\".format(\n",
        "        data_url\n",
        "    )\n",
        ")"
      ]
    },
    {
      "cell_type": "markdown",
      "metadata": {
        "id": "NcmnPS0HhZHY"
      },
      "source": [
        "## Let's have a closer look at this.\n",
        "\n",
        "If average episode score is below 200 using all 5 lives, then probably DQN has not converged fully. But anyway let's make a more complete record of an episode."
      ]
    },
    {
      "cell_type": "code",
      "execution_count": 26,
      "metadata": {
        "id": "X8KeETQXhZHY",
        "colab": {
          "base_uri": "https://localhost:8080/"
        },
        "outputId": "351b7d8d-c40b-4b93-f1ad-b2df481e739b"
      },
      "outputs": [
        {
          "output_type": "stream",
          "name": "stdout",
          "text": [
            "total reward for life: 3.0\n",
            "states\n",
            "v_mc\n",
            "v_agent\n",
            "q_spreads\n",
            "td_errors\n",
            "rewards\n",
            "episode_finished\n"
          ]
        }
      ],
      "source": [
        "eval_env = make_env(clip_rewards=False)\n",
        "record = utils.play_and_log_episode(eval_env, agent)\n",
        "print('total reward for life:', np.sum(record['rewards']))\n",
        "for key in record:\n",
        "    print(key)"
      ]
    },
    {
      "cell_type": "code",
      "execution_count": 27,
      "metadata": {
        "id": "fEZiFTvZhZHY",
        "colab": {
          "base_uri": "https://localhost:8080/",
          "height": 350
        },
        "outputId": "db57efe1-730e-4efa-dacb-cde246fe01bd"
      },
      "outputs": [
        {
          "output_type": "display_data",
          "data": {
            "text/plain": [
              "<Figure size 360x360 with 1 Axes>"
            ],
            "image/png": "[encoded data removed]"
          },
          "metadata": {
            "needs_background": "light"
          }
        }
      ],
      "source": [
        "fig = plt.figure(figsize=(5, 5))\n",
        "ax = fig.add_subplot(1, 1, 1)\n",
        "\n",
        "ax.scatter(record['v_mc'], record['v_agent'])\n",
        "ax.plot(sorted(record['v_mc']), sorted(record['v_mc']), 'black', linestyle='--', label='x=y')\n",
        "\n",
        "ax.grid()\n",
        "ax.legend()\n",
        "ax.set_title('State Value Estimates')\n",
        "ax.set_xlabel('Monte-Carlo')\n",
        "ax.set_ylabel('Agent')\n",
        "\n",
        "plt.show()"
      ]
    },
    {
      "cell_type": "markdown",
      "metadata": {
        "id": "sBOV5NPRhZHY"
      },
      "source": [
        "$\\hat V_{Monte-Carlo}(s_t) = \\sum_{\\tau=0}^{episode~end} \\gamma^{\\tau-t}r_t$"
      ]
    },
    {
      "cell_type": "markdown",
      "metadata": {
        "id": "ANPrBjOShZHY"
      },
      "source": [
        "Is there a big bias? It's ok, anyway it works."
      ]
    },
    {
      "cell_type": "markdown",
      "metadata": {
        "id": "aLEh5vTshZHY"
      },
      "source": [
        "## Bonus I"
      ]
    },
    {
      "cell_type": "markdown",
      "metadata": {
        "id": "E7inUWpNhZHY"
      },
      "source": [
        "**1.** Plot several (say 3) states with high and low spreads of Q estimate by actions i.e.\n",
        "$$\\max_a \\hat Q(s,a) - \\min_a \\hat Q(s,a)\\$$\n",
        "Please take those states from different episodes to make sure that the states are really different.\n",
        "\n",
        "What should high and low spread mean at least in the world of perfect Q-fucntions?\n",
        "\n",
        "Comment the states you like most.\n",
        "\n",
        "**2.** Plot several (say 3) states with high td-error and several states with high values of\n",
        "$$| \\hat V_{Monte-Carlo}(s) - \\hat V_{agent}(s)|,$$ \n",
        "$$\\hat V_{agent}(s)=\\max_a \\hat Q(s,a).$$ Please take those states from different episodes to make sure that the states are really different. From what part (i.e. beginning, middle, end) of an episode did these states come from?\n",
        "\n",
        "Comment the states you like most."
      ]
    },
    {
      "cell_type": "code",
      "execution_count": null,
      "metadata": {
        "id": "QoDwbJiQhZHY"
      },
      "outputs": [],
      "source": [
        "from utils import img_by_obs, play_and_log_episode\n",
        "\n",
        "\n",
        "# YOUR CODE HERE"
      ]
    },
    {
      "cell_type": "markdown",
      "metadata": {
        "id": "KXhr6tYthZHZ"
      },
      "source": [
        "## Bonus II. Get High Score!\n",
        "\n",
        "One way is to train for several days and use a big GPU (why not actually).\n",
        "\n",
        "Another way is to apply modifications (see **Bonus III**)."
      ]
    },
    {
      "cell_type": "markdown",
      "metadata": {
        "id": "JEdgrSd0hZHZ"
      },
      "source": [
        "## Bonus III. Apply modifications to DQN.\n",
        "\n",
        "For inspiration see [Rainbow](https://arxiv.org/abs/1710.02298) - a version of q-learning that combines lots of them.\n",
        "\n",
        "Some modifications:\n",
        "* [Prioritized experience replay](https://arxiv.org/abs/1511.05952)\n",
        "* [double q-learning](https://arxiv.org/abs/1509.06461)\n",
        "* [dueling q-learning](https://arxiv.org/abs/1511.06581)\n",
        "* multi-step heuristics (see [Rainbow](https://arxiv.org/abs/1710.02298))\n",
        "* [distributional RL](https://arxiv.org/abs/1707.06887)(distributional and distributed stand for different things here) \n",
        "* Other modifications "
      ]
    },
    {
      "cell_type": "markdown",
      "metadata": {
        "id": "k0WkfLBGhZHZ"
      },
      "source": [
        "## Bonus IV. Distributed RL.\n",
        "\n",
        "Solve the task in a distributed way. It can strongly speed up learning. See [article](https://arxiv.org/pdf/1602.01783.pdf) or some guides."
      ]
    },
    {
      "cell_type": "code",
      "execution_count": null,
      "metadata": {
        "id": "3WyEzf_ShZHZ"
      },
      "outputs": [],
      "source": [
        ""
      ]
    }
  ],
  "metadata": {
    "accelerator": "GPU",
    "anaconda-cloud": {},
    "colab": {
      "collapsed_sections": [],
      "name": "Lab2_Atari_DQN.ipynb",
      "provenance": []
    },
    "kernelspec": {
      "display_name": "Python 3",
      "language": "python",
      "name": "python3"
    },
    "language_info": {
      "codemirror_mode": {
        "name": "ipython",
        "version": 3
      },
      "file_extension": ".py",
      "mimetype": "text/x-python",
      "name": "python",
      "nbconvert_exporter": "python",
      "pygments_lexer": "ipython3",
      "version": "3.7.7"
    }
  },
  "nbformat": 4,
  "nbformat_minor": 0
}